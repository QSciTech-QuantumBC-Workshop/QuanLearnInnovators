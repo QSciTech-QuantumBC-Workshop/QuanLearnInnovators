{
 "cells": [
  {
   "cell_type": "code",
   "execution_count": 1,
   "id": "57bfd5ed-186f-461b-b796-3f8a6e2be619",
   "metadata": {},
   "outputs": [],
   "source": [
    "import numpy as np"
   ]
  },
  {
   "cell_type": "markdown",
   "id": "cc3ebf33-fb21-4755-91f2-46a23f947d4f",
   "metadata": {},
   "source": [
    "**Importing MNIST dataset using Tensorflow**\n",
    "\n",
    "In this step, we assume you have intmernet connectivity. Connectivity is necessary for this tutorial because the tensorflow library imports the dataset from https://storage.googleapis.com/tensorflow/tf-keras-datasets/mnist.npz by default. If you do not have internet connectivity, for some strange reason, you can follow our \"How to import the MNIST dataset from a local directory\" tutorial.\n",
    "\n",
    "To load the MNIST dataset, use the following code:"
   ]
  },
  {
   "cell_type": "code",
   "execution_count": 2,
   "id": "150f3f87-b03c-4b4c-88d2-d5fb4d5e884d",
   "metadata": {},
   "outputs": [],
   "source": [
    "from tensorflow.keras.datasets import mnist"
   ]
  },
  {
   "cell_type": "markdown",
   "id": "003e8e30-d6f5-4653-8161-90276461b29f",
   "metadata": {},
   "source": [
    "The MNIST dataset will be loaded as a set of training and test inputs (X) and outputs (Y). The imputs are samples of digit images while the outputs contain the numerical value each input represents. The exact shape of each dataset is provided below for your convenience."
   ]
  },
  {
   "cell_type": "code",
   "execution_count": 3,
   "id": "fc3412e6-c105-4897-bd89-e1dd3479ce66",
   "metadata": {},
   "outputs": [
    {
     "name": "stderr",
     "output_type": "stream",
     "text": [
      "/var/folders/z6/4vq2qqgs2078v53wjbxszb8h0000gn/T/ipykernel_5431/4053146574.py:8: DeprecationWarning: ``qiskit.algorithms`` has been migrated to an independent package: https://github.com/qiskit-community/qiskit-algorithms. The ``qiskit.algorithms`` import path is deprecated as of qiskit-terra 0.25.0 and will be removed no earlier than 3 months after the release date. Please run ``pip install qiskit_algorithms`` and use ``import qiskit_algorithms`` instead.\n",
      "  from qiskit.algorithms.optimizers import ADAM, SPSA\n"
     ]
    }
   ],
   "source": [
    "import matplotlib.pyplot as plt\n",
    "import numpy as np\n",
    "from sklearn import datasets\n",
    "import tensorflow as tf\n",
    "from sklearn.decomposition import PCA\n",
    "from sklearn.model_selection import train_test_split\n",
    "\n",
    "from qiskit.algorithms.optimizers import ADAM, SPSA\n",
    "from qiskit.circuit.library import TwoLocal, ZZFeatureMap\n",
    "from qiskit.primitives import BackendEstimator, BackendSampler\n",
    "from qiskit.quantum_info import Pauli\n",
    "from qiskit_aer import AerSimulator\n",
    "from qiskit_algorithms.gradients import ParamShiftEstimatorGradient, ParamShiftSamplerGradient\n",
    "\n",
    "from qiskit_machine_learning.algorithms.classifiers import NeuralNetworkClassifier\n",
    "from qiskit_machine_learning.neural_networks import EstimatorQNN, SamplerQNN\n",
    "from qiskit_machine_learning.utils.loss_functions import CrossEntropyLoss"
   ]
  },
  {
   "cell_type": "code",
   "execution_count": 4,
   "id": "d8aaae1b-fc94-4e60-9aa1-295a6f6b9d09",
   "metadata": {},
   "outputs": [],
   "source": [
    "(x_train, y_train), (x_test, y_test) = mnist.load_data()"
   ]
  },
  {
   "cell_type": "code",
   "execution_count": 5,
   "id": "3e79a11b-c759-4902-8d03-d476a1744f1c",
   "metadata": {
    "scrolled": true
   },
   "outputs": [
    {
     "name": "stdout",
     "output_type": "stream",
     "text": [
      "MNIST Dataset Shape:\n",
      "x_train: (60000, 28, 28)\n",
      "y_train: (60000,)\n",
      "x_test:  (10000, 28, 28)\n",
      "y_test:  (10000,)\n"
     ]
    }
   ],
   "source": [
    "print('MNIST Dataset Shape:')\n",
    "print('x_train: ' + str(x_train.shape))\n",
    "print('y_train: ' + str(y_train.shape))\n",
    "print('x_test:  '  + str(x_test.shape))\n",
    "print('y_test:  '  + str(y_test.shape))"
   ]
  },
  {
   "cell_type": "code",
   "execution_count": 6,
   "id": "460ddc1e-d37b-4626-8e63-dfa9eb7d064f",
   "metadata": {},
   "outputs": [],
   "source": [
    "import matplotlib.pyplot as plt\n",
    "import numpy as np\n",
    "from sklearn import datasets\n",
    "import tensorflow as tf\n",
    "from sklearn.decomposition import PCA\n",
    "from sklearn.model_selection import train_test_split\n",
    "\n",
    "from qiskit.algorithms.optimizers import ADAM, SPSA\n",
    "from qiskit.circuit.library import TwoLocal, ZZFeatureMap\n",
    "from qiskit.primitives import BackendEstimator, BackendSampler\n",
    "from qiskit.quantum_info import Pauli\n",
    "from qiskit_aer import AerSimulator\n",
    "from qiskit_algorithms.gradients import ParamShiftEstimatorGradient, ParamShiftSamplerGradient\n",
    "\n",
    "from qiskit_machine_learning.algorithms.classifiers import NeuralNetworkClassifier\n",
    "from qiskit_machine_learning.neural_networks import EstimatorQNN, SamplerQNN\n",
    "from qiskit_machine_learning.utils.loss_functions import CrossEntropyLoss"
   ]
  },
  {
   "cell_type": "markdown",
   "id": "1bc32a3c-6817-4f01-bc06-bc32b36467db",
   "metadata": {},
   "source": [
    "**Load the MNIST Dataset**\n",
    "\n",
    "MNIST dataset consists of thousand images of hand-written digits from 0 to 9. Every image has 28x28 pixels and every pixel's value is between 0 to 255. This dataset is too large for us. So we need to reduce it.\n",
    "\n",
    "1). Normalizing the pixel's value in the range of [0,1].\n",
    "\n",
    "2). Filtering images from the dataset, leaving only the images with number 3 and 6 as their labels.\n",
    "\n",
    "3). Reducing the total number of images in the dataset and divide the dataset into training dataset and testing dataset.\n",
    "\n",
    "4). Resize the image from 28x28 pixels to 16x16 pixels because QPCA needs the size of the image in the form of 2^n x 2^n pixels."
   ]
  },
  {
   "cell_type": "code",
   "execution_count": 7,
   "id": "8f86806a-b8ad-4f98-b6b3-b1440ffd4817",
   "metadata": {},
   "outputs": [
    {
     "name": "stdout",
     "output_type": "stream",
     "text": [
      "Number of original training examples: 60000\n",
      "Number of original test examples: 10000\n"
     ]
    }
   ],
   "source": [
    "(x_train, y_train), (x_test, y_test) = tf.keras.datasets.mnist.load_data()\n",
    "\n",
    "# Rescale the images from [0,255] to the [0.0,1.0] range.\n",
    "x_train, x_test = x_train[..., np.newaxis]/255.0, x_test[..., np.newaxis]/255.0\n",
    "\n",
    "print(\"Number of original training examples:\", len(x_train))\n",
    "print(\"Number of original test examples:\", len(x_test))\n",
    "     "
   ]
  },
  {
   "cell_type": "code",
   "execution_count": 8,
   "id": "a7ddf841-356c-4e3f-9ac6-03a8ff46f0f4",
   "metadata": {},
   "outputs": [
    {
     "data": {
      "text/plain": [
       "array([5, 0, 4, ..., 5, 6, 8], dtype=uint8)"
      ]
     },
     "execution_count": 8,
     "metadata": {},
     "output_type": "execute_result"
    }
   ],
   "source": [
    "y_train"
   ]
  },
  {
   "cell_type": "code",
   "execution_count": 9,
   "id": "e21251ee-0cbd-402b-8aac-4bff71c15974",
   "metadata": {},
   "outputs": [
    {
     "name": "stdout",
     "output_type": "stream",
     "text": [
      "Number of filtered training examples: 12665\n",
      "Number of filtered test examples: 2115\n"
     ]
    }
   ],
   "source": [
    "# choose the number to be classified here, in this case I selected number 0 and 1\n",
    "number_set = [0, 1]\n",
    "\n",
    "mask_train = np.isin(y_train, number_set)\n",
    "mask_test = np.isin(y_test, number_set)\n",
    "\n",
    "x_train = x_train[mask_train]\n",
    "y_train = y_train[mask_train]\n",
    "x_test = x_test[mask_test]\n",
    "y_test = y_test[mask_test]\n",
    "\n",
    "print(\"Number of filtered training examples:\", len(x_train))\n",
    "print(\"Number of filtered test examples:\", len(x_test))\n",
    "     "
   ]
  },
  {
   "cell_type": "code",
   "execution_count": 10,
   "id": "26ebc1a3-85e2-4233-bc69-04efbcc58a32",
   "metadata": {},
   "outputs": [
    {
     "data": {
      "text/plain": [
       "array([0, 1, 1, ..., 1, 0, 1], dtype=uint8)"
      ]
     },
     "execution_count": 10,
     "metadata": {},
     "output_type": "execute_result"
    }
   ],
   "source": [
    "y_train"
   ]
  },
  {
   "cell_type": "code",
   "execution_count": 11,
   "id": "d7168a2a-7d00-4dba-bd3a-57be26db9566",
   "metadata": {},
   "outputs": [
    {
     "name": "stdout",
     "output_type": "stream",
     "text": [
      "(80, 28, 28, 1) (80,)\n",
      "(20, 28, 28, 1) (20,)\n"
     ]
    }
   ],
   "source": [
    "# next, reduce the number of images inside the dataset\n",
    "\n",
    "index_train = np.array([], dtype=int)\n",
    "index_test = np.array([], dtype=int)\n",
    "\n",
    "# decide how many images we want inside the dataset\n",
    "num_data = 100\n",
    "# decide what is the percentage of the dataset we want for the training dataset\n",
    "train_percentage = 0.8\n",
    "\n",
    "# train data\n",
    "counter = np.array([0,0], dtype=int)\n",
    "for i in range (len(x_train)):\n",
    "    if y_train[i] == True and counter[0] < int(train_percentage*num_data/2):\n",
    "        index_train = np.append(index_train, np.array([int(i)]), axis=0)\n",
    "        counter[0] += 1\n",
    "\n",
    "    if y_train[i] == False and counter[1] < int(train_percentage*num_data/2):\n",
    "        index_train = np.append(index_train, np.array([int(i)]), axis=0)\n",
    "        counter[1] += 1\n",
    "\n",
    "# test data\n",
    "counter = np.array([0,0], dtype=int)\n",
    "for i in range (len(x_test)):\n",
    "    if y_test[i] == True and counter[0] < int(np.round(1-train_percentage, 2)*num_data/2):\n",
    "        index_test = np.append(index_test, np.array([int(i)]), axis=0)\n",
    "        counter[0] += 1\n",
    "\n",
    "    if y_test[i] == False and counter[1] < int(np.round(1-train_percentage, 2)*num_data/2):\n",
    "        index_test = np.append(index_test, np.array([int(i)]), axis=0)\n",
    "        counter[1] += 1\n",
    "\n",
    "x_train = x_train[index_train]\n",
    "y_train = y_train[index_train]\n",
    "x_test = x_test[index_test]\n",
    "y_test = y_test[index_test]\n",
    "\n",
    "print(x_train.shape, y_train.shape)\n",
    "print(x_test.shape, y_test.shape)"
   ]
  },
  {
   "cell_type": "code",
   "execution_count": 12,
   "id": "f9af6816-856c-4fc1-a9ab-03d3faab30c1",
   "metadata": {},
   "outputs": [
    {
     "data": {
      "image/png": "[encoded data removed]",
      "text/plain": [
       "<Figure size 1000x500 with 10 Axes>"
      ]
     },
     "metadata": {},
     "output_type": "display_data"
    }
   ],
   "source": [
    "# Print some images from the final dataset\n",
    "fig, axes = plt.subplots(2, 5, figsize=(10, 5))\n",
    "\n",
    "for i in range(2):\n",
    "    for j in range(5):\n",
    "        axes[i, j].imshow(x_train[i + j].squeeze(), cmap='gray')\n",
    "        axes[i, j].set_title(\"Label: {}\".format(y_train[i + j]))\n",
    "        axes[i, j].axis('off')\n",
    "\n",
    "plt.show()"
   ]
  },
  {
   "cell_type": "code",
   "execution_count": 13,
   "id": "8dad08b0-a3a7-44f1-b2f5-996292252afa",
   "metadata": {},
   "outputs": [
    {
     "name": "stdout",
     "output_type": "stream",
     "text": [
      "0\n"
     ]
    },
    {
     "data": {
      "text/plain": [
       "<matplotlib.colorbar.Colorbar at 0x29363af20>"
      ]
     },
     "execution_count": 13,
     "metadata": {},
     "output_type": "execute_result"
    },
    {
     "data": {
      "image/png": "[encoded data removed]",
      "text/plain": [
       "<Figure size 640x480 with 2 Axes>"
      ]
     },
     "metadata": {},
     "output_type": "display_data"
    }
   ],
   "source": [
    "# plot an example of 1 image\n",
    "\n",
    "print(y_train[0])\n",
    "\n",
    "plt.imshow(x_train[0, :, :, 0])\n",
    "plt.colorbar()"
   ]
  },
  {
   "cell_type": "code",
   "execution_count": 14,
   "id": "b9170ef0-c8f2-476d-9094-e1346d4c0762",
   "metadata": {},
   "outputs": [],
   "source": [
    "# resize the images\n",
    "\n",
    "x_train_small = tf.image.resize(x_train, (16,16)).numpy()\n",
    "x_test_small = tf.image.resize(x_test, (16,16)).numpy()\n",
    "     "
   ]
  },
  {
   "cell_type": "code",
   "execution_count": 15,
   "id": "cae94f70-fbc0-497b-b296-5c9485918633",
   "metadata": {},
   "outputs": [
    {
     "name": "stdout",
     "output_type": "stream",
     "text": [
      "0\n"
     ]
    },
    {
     "data": {
      "text/plain": [
       "<matplotlib.colorbar.Colorbar at 0x294132440>"
      ]
     },
     "execution_count": 15,
     "metadata": {},
     "output_type": "execute_result"
    },
    {
     "data": {
      "image/png": "[encoded data removed]",
      "text/plain": [
       "<Figure size 640x480 with 2 Axes>"
      ]
     },
     "metadata": {},
     "output_type": "display_data"
    }
   ],
   "source": [
    "# plot an example of 1 resized image\n",
    "\n",
    "print(y_train[0])\n",
    "\n",
    "plt.imshow(x_train_small[0,:,:,0], vmin=0, vmax=1)\n",
    "plt.colorbar()"
   ]
  },
  {
   "cell_type": "code",
   "execution_count": 16,
   "id": "24796697-5873-4410-9f98-0f91c0ce13c5",
   "metadata": {},
   "outputs": [
    {
     "data": {
      "text/plain": [
       "(80, 16, 16, 1)"
      ]
     },
     "execution_count": 16,
     "metadata": {},
     "output_type": "execute_result"
    }
   ],
   "source": [
    "x_train_small.shape"
   ]
  },
  {
   "cell_type": "markdown",
   "id": "57dd93e9-bc71-47ec-8329-966df90f5c66",
   "metadata": {},
   "source": [
    "**Classical Principal Component Analysis**\n",
    "\n",
    "We will use the well-known scikit-learn package for the classical PCA (https://scikit-learn.org/stable/modules/generated/sklearn.decomposition.PCA.html)"
   ]
  },
  {
   "cell_type": "code",
   "execution_count": 16,
   "id": "1d6e2484-3444-4eb7-886b-0ae8af713189",
   "metadata": {},
   "outputs": [],
   "source": [
    "# decide the number of principal components to be used\n",
    "n_components_classic = 8\n",
    "\n",
    "pca = PCA(n_components=n_components_classic, whiten = False, random_state = 2020)"
   ]
  },
  {
   "cell_type": "code",
   "execution_count": 17,
   "id": "9a5cc4e4-afdb-4b87-875e-5d583da65b9b",
   "metadata": {},
   "outputs": [
    {
     "data": {
      "text/plain": [
       "((80, 8), (20, 8))"
      ]
     },
     "execution_count": 17,
     "metadata": {},
     "output_type": "execute_result"
    }
   ],
   "source": [
    "x_train_small_pca = pca.fit_transform(x_train_small.reshape(len(x_train_small),16**2))\n",
    "x_test_small_pca = pca.fit_transform(x_test_small.reshape(len(x_test_small),16**2))\n",
    "x_train_small_pca.shape, x_test_small_pca.shape"
   ]
  },
  {
   "cell_type": "code",
   "execution_count": 18,
   "id": "789b5f0b-ba92-4533-aa30-962d55626954",
   "metadata": {},
   "outputs": [
    {
     "data": {
      "text/plain": [
       "<matplotlib.legend.Legend at 0x2941e7c10>"
      ]
     },
     "execution_count": 18,
     "metadata": {},
     "output_type": "execute_result"
    },
    {
     "data": {
      "image/png": "[encoded data removed]",
      "text/plain": [
       "<Figure size 640x480 with 1 Axes>"
      ]
     },
     "metadata": {},
     "output_type": "display_data"
    }
   ],
   "source": [
    "plt.scatter(x_train_small_pca[:,0], x_train_small_pca[:,1], c='b', marker=\"o\", label=\"class 0\", s=25)\n",
    "plt.scatter(x_test_small_pca[:,0], x_test_small_pca[:,1], c='r', marker=\"o\", label=\"class 0\", s=25)\n",
    "\n",
    "plt.title(\"Mnist dataset classification\")\n",
    "plt.legend(loc='upper left')"
   ]
  },
  {
   "cell_type": "code",
   "execution_count": null,
   "id": "729cf07b-a4d6-46a6-a5f1-a457a16f48b6",
   "metadata": {},
   "outputs": [],
   "source": [
    "np.save('x_train_small_pca.npy', x_train_small_pca)\n",
    "np.save('x_test_small_pca.npy', x_test_small_pca)\n",
    "np.save('y_test.npy', y_test)\n",
    "np.save('y_train.npy', y_train)"
   ]
  },
  {
   "cell_type": "code",
   "execution_count": null,
   "id": "2469c6c8-36ce-4be3-b3ce-003e10992350",
   "metadata": {},
   "outputs": [],
   "source": []
  }
 ],
 "metadata": {
  "kernelspec": {
   "display_name": "Python 3 (ipykernel)",
   "language": "python",
   "name": "python3"
  },
  "language_info": {
   "codemirror_mode": {
    "name": "ipython",
    "version": 3
   },
   "file_extension": ".py",
   "mimetype": "text/x-python",
   "name": "python",
   "nbconvert_exporter": "python",
   "pygments_lexer": "ipython3",
   "version": "3.10.6"
  }
 },
 "nbformat": 4,
 "nbformat_minor": 5
}
