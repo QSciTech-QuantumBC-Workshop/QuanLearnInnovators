{
 "cells": [
  {
   "cell_type": "code",
   "execution_count": 1,
   "metadata": {},
   "outputs": [
    {
     "name": "stderr",
     "output_type": "stream",
     "text": [
      "C:\\Users\\sebts\\AppData\\Local\\Temp\\ipykernel_15100\\4255271070.py:6: DeprecationWarning: ``qiskit.algorithms`` has been migrated to an independent package: https://github.com/qiskit-community/qiskit-algorithms. The ``qiskit.algorithms`` import path is deprecated as of qiskit-terra 0.25.0 and will be removed no earlier than 3 months after the release date. Please run ``pip install qiskit_algorithms`` and use ``import qiskit_algorithms`` instead.\n",
      "  from qiskit.algorithms.optimizers import ADAM, SPSA\n"
     ]
    }
   ],
   "source": [
    "import matplotlib.pyplot as plt\n",
    "import numpy as np\n",
    "from sklearn import datasets\n",
    "from sklearn.model_selection import train_test_split\n",
    "\n",
    "from qiskit.algorithms.optimizers import ADAM, SPSA\n",
    "from qiskit.circuit.library import TwoLocal, ZZFeatureMap\n",
    "from qiskit.primitives import BackendEstimator, BackendSampler\n",
    "from qiskit.quantum_info import Pauli\n",
    "from qiskit_aer import AerSimulator\n",
    "from qiskit_algorithms.gradients import ParamShiftEstimatorGradient, ParamShiftSamplerGradient\n",
    "\n",
    "from qiskit_machine_learning.algorithms.classifiers import NeuralNetworkClassifier\n",
    "from qiskit_machine_learning.neural_networks import EstimatorQNN, SamplerQNN\n",
    "from qiskit_machine_learning.utils.loss_functions import CrossEntropyLoss"
   ]
  },
  {
   "cell_type": "code",
   "execution_count": 2,
   "metadata": {},
   "outputs": [],
   "source": [
    "SEED = 123\n",
    "qasm_sim = AerSimulator()"
   ]
  },
  {
   "cell_type": "markdown",
   "metadata": {},
   "source": [
    "# Dataset"
   ]
  },
  {
   "cell_type": "code",
   "execution_count": 3,
   "metadata": {},
   "outputs": [
    {
     "data": {
      "text/plain": [
       "<matplotlib.legend.Legend at 0x1b52baa2970>"
      ]
     },
     "execution_count": 3,
     "metadata": {},
     "output_type": "execute_result"
    },
    {
     "data": {
      "image/png": "[encoded data removed]",
      "text/plain": [
       "<Figure size 640x480 with 1 Axes>"
      ]
     },
     "metadata": {},
     "output_type": "display_data"
    }
   ],
   "source": [
    "x,y = datasets.make_moons(n_samples=100, noise=0.1, random_state=SEED)\n",
    "\n",
    "# Normalizatin\n",
    "x[:,0] = x[:,0] / (np.max(x[:,0]) - np.min(x[:,0]))\n",
    "x[:,1] = x[:,1] / (np.max(x[:,1]) - np.min(x[:,1]))\n",
    "\n",
    "num_classes = 2\n",
    "num_features = 2\n",
    "x_blue = x[y==0]\n",
    "x_red = x[y==1]\n",
    "\n",
    "plt.scatter(x_blue[:,0], x_blue[:,1], c='b', label=\"class 0\")\n",
    "plt.scatter(x_red[:,0], x_red[:,1], c='r', label=\"class 1\")\n",
    "plt.title(\"Moon dataset\")\n",
    "plt.legend()"
   ]
  },
  {
   "cell_type": "code",
   "execution_count": 4,
   "metadata": {},
   "outputs": [
    {
     "name": "stdout",
     "output_type": "stream",
     "text": [
      "[0 1 1 0 1 0 0 1 1 0 0 1 1 1 0 0 1 0 1 1 0 1 0 0 0 1 1 0 1 0 0 1 0 1 1 1 1\n",
      " 1 1 0 0 1 0 1 0 1 0 1 0 1 0 0 1 0 0 1 0 0 1 0 0 1 0 0 0 0 1 1 1 0 0 0 0 1\n",
      " 0 0 1 1 1 0 0 1 1 0 1 1 0 1 1 0 0 0 1 0 1 1 1 0 1 1]\n"
     ]
    }
   ],
   "source": [
    "print(y)"
   ]
  },
  {
   "cell_type": "code",
   "execution_count": 5,
   "metadata": {},
   "outputs": [
    {
     "name": "stdout",
     "output_type": "stream",
     "text": [
      "[[ 0.28536195  0.22539022]\n",
      " [ 0.25848741 -0.31429953]\n",
      " [ 0.38856686 -0.156283  ]\n",
      " [-0.08169527  0.53213333]\n",
      " [ 0.07581807 -0.22166999]\n",
      " [ 0.34980911 -0.03809214]\n",
      " [ 0.34658529  0.21888567]\n",
      " [-0.00978258  0.21643643]\n",
      " [ 0.4138374  -0.29620469]\n",
      " [ 0.36549889  0.1493555 ]\n",
      " [ 0.06559166  0.48033086]\n",
      " [ 0.13861126 -0.11191268]\n",
      " [ 0.33022836 -0.21691082]\n",
      " [ 0.02801198 -0.12964721]\n",
      " [ 0.02175317  0.53171507]\n",
      " [-0.26006333  0.13055256]\n",
      " [ 0.38253682 -0.12571767]\n",
      " [-0.23742029  0.36033644]\n",
      " [ 0.02829437 -0.03398784]\n",
      " [ 0.33400276 -0.36497283]\n",
      " [-0.20707074  0.50105301]\n",
      " [ 0.52460135 -0.05424793]\n",
      " [ 0.13881393  0.5343549 ]\n",
      " [-0.13103888  0.51172631]\n",
      " [-0.06490748  0.3936612 ]\n",
      " [ 0.57302841 -0.02539684]\n",
      " [ 0.50832812 -0.11446952]\n",
      " [ 0.31047264  0.28671951]\n",
      " [ 0.03097866  0.19841284]\n",
      " [-0.25606045  0.2401672 ]\n",
      " [ 0.03816235  0.47827365]\n",
      " [ 0.54776197 -0.00739108]\n",
      " [-0.13746466  0.49075192]\n",
      " [ 0.18639706 -0.14259422]\n",
      " [ 0.53581458 -0.1966195 ]\n",
      " [ 0.50846539 -0.10100542]\n",
      " [ 0.65081605  0.15462151]\n",
      " [ 0.63633919  0.19404409]\n",
      " [ 0.10171685 -0.02279776]\n",
      " [ 0.21581181  0.39261348]\n",
      " [ 0.09631878  0.54580013]\n",
      " [ 0.51599243 -0.15803635]\n",
      " [-0.25495118  0.39397569]\n",
      " [ 0.06753536 -0.05452379]\n",
      " [ 0.35296289  0.02751153]\n",
      " [ 0.30146663 -0.28692462]\n",
      " [ 0.24082043  0.39740354]\n",
      " [ 0.41991528 -0.30330766]\n",
      " [ 0.24113357  0.37177523]\n",
      " [ 0.012627    0.12104752]\n",
      " [ 0.1285124   0.46871126]\n",
      " [-0.05286789  0.55444269]\n",
      " [ 0.01316635  0.32244725]\n",
      " [-0.29107869  0.10646375]\n",
      " [ 0.27591129  0.21525035]\n",
      " [ 0.62385964  0.32176488]\n",
      " [-0.06397122  0.49909352]\n",
      " [-0.31201505  0.03284773]\n",
      " [ 0.24413334 -0.32347844]\n",
      " [-0.29911053  0.22916332]\n",
      " [ 0.18331907  0.45187054]\n",
      " [ 0.61196311  0.09526505]\n",
      " [ 0.13192863  0.32697295]\n",
      " [ 0.20057937  0.40321916]\n",
      " [ 0.03899682  0.53382662]\n",
      " [ 0.27093539  0.29766179]\n",
      " [ 0.10839083  0.04319339]\n",
      " [ 0.24144193 -0.27404689]\n",
      " [ 0.11432906 -0.20645673]\n",
      " [ 0.30210652  0.12111455]\n",
      " [-0.24246308  0.33371734]\n",
      " [-0.1863551   0.37522308]\n",
      " [-0.07039862  0.63502717]\n",
      " [ 0.03040084  0.22621013]\n",
      " [ 0.25635741  0.24012468]\n",
      " [-0.34918395  0.00490842]\n",
      " [ 0.06652098 -0.10196279]\n",
      " [ 0.62861032 -0.00947762]\n",
      " [ 0.59469612  0.20046756]\n",
      " [-0.28753327  0.33759488]\n",
      " [ 0.25850393  0.11239818]\n",
      " [ 0.15937039 -0.20997265]\n",
      " [ 0.02585889  0.07823099]\n",
      " [-0.27870761 -0.0107465 ]\n",
      " [ 0.2034549  -0.24016648]\n",
      " [ 0.42717535 -0.22699388]\n",
      " [-0.20117994  0.35547288]\n",
      " [ 0.39350239 -0.28025641]\n",
      " [ 0.63545748  0.05175324]\n",
      " [-0.05549686  0.57277957]\n",
      " [-0.2471662   0.15188023]\n",
      " [-0.16496574  0.39669478]\n",
      " [ 0.30403554 -0.27838397]\n",
      " [-0.28988621  0.0770874 ]\n",
      " [ 0.52066695  0.03073638]\n",
      " [ 0.03058804  0.02775434]\n",
      " [ 0.46813687 -0.22864962]\n",
      " [ 0.1745284   0.47069817]\n",
      " [ 0.61057981  0.05229766]\n",
      " [ 0.1875677  -0.17314748]]\n"
     ]
    }
   ],
   "source": [
    "print(x)"
   ]
  },
  {
   "cell_type": "code",
   "execution_count": 6,
   "metadata": {},
   "outputs": [
    {
     "name": "stdout",
     "output_type": "stream",
     "text": [
      "Train set size: 80\n",
      "Test set size:  20\n"
     ]
    }
   ],
   "source": [
    "test_ratio = 0.2\n",
    "x_train, x_test, y_train, y_test = train_test_split(x, y, test_size=test_ratio, random_state=SEED, stratify=y)\n",
    "\n",
    "print(f\"Train set size: {len(x_train)}\")\n",
    "print(f\"Test set size:  {len(x_test)}\")"
   ]
  },
  {
   "cell_type": "markdown",
   "metadata": {},
   "source": [
    "# Data embedding circuits"
   ]
  },
  {
   "cell_type": "code",
   "execution_count": 7,
   "metadata": {},
   "outputs": [
    {
     "name": "stderr",
     "output_type": "stream",
     "text": [
      "C:\\Users\\sebts\\AppData\\Roaming\\Python\\Python39\\site-packages\\qiskit\\visualization\\circuit\\matplotlib.py:266: FutureWarning: The default matplotlib drawer scheme will be changed to \"iqp\" in a following release. To silence this warning, specify the current default explicitly as style=\"clifford\", or the new default as style=\"iqp\".\n",
      "  self._style, def_font_ratio = load_style(self._style)\n"
     ]
    },
    {
     "data": {
      "image/png": "[encoded data removed]",
      "text/plain": [
       "<Figure size 903.439x140.467 with 1 Axes>"
      ]
     },
     "execution_count": 7,
     "metadata": {},
     "output_type": "execute_result"
    }
   ],
   "source": [
    "def get_zz_feature_map(feature_dim, feature_map_rep, ent):\n",
    "    return ZZFeatureMap(feature_dimension=feature_dim, reps=feature_map_rep, entanglement=ent)\n",
    "\n",
    "fmap_zz = get_zz_feature_map(num_features, 2, 'linear')\n",
    "input_params = fmap_zz.parameters\n",
    "fmap_zz.decompose().draw('mpl', scale=0.7)"
   ]
  },
  {
   "cell_type": "code",
   "execution_count": 8,
   "metadata": {},
   "outputs": [
    {
     "data": {
      "image/png": "[encoded data removed]",
      "text/plain": [
       "<Figure size 669.328x140.467 with 1 Axes>"
      ]
     },
     "execution_count": 8,
     "metadata": {},
     "output_type": "execute_result"
    }
   ],
   "source": [
    "fmap_zz.assign_parameters({k:v for (k,v) in zip(fmap_zz.parameters, x[0])}).decompose().draw('mpl', scale=0.7)"
   ]
  },
  {
   "cell_type": "markdown",
   "metadata": {},
   "source": [
    "# Anstaz"
   ]
  },
  {
   "cell_type": "code",
   "execution_count": 9,
   "metadata": {},
   "outputs": [
    {
     "data": {
      "image/png": "[encoded data removed]",
      "text/plain": [
       "<Figure size 552.273x140.467 with 1 Axes>"
      ]
     },
     "execution_count": 9,
     "metadata": {},
     "output_type": "execute_result"
    }
   ],
   "source": [
    "def get_two_locals(feature_dim, rotations, var_form_rep, ent):\n",
    "    return TwoLocal(num_qubits=feature_dim, rotation_blocks=rotations, entanglement_blocks='cx', entanglement=ent, reps=var_form_rep)\n",
    "\n",
    "ansatz_tl = get_two_locals(num_features, ['ry', 'rz'], 2, 'linear')\n",
    "weights_params = ansatz_tl.parameters\n",
    "ansatz_tl.decompose().draw('mpl', scale=0.7)"
   ]
  },
  {
   "cell_type": "code",
   "execution_count": 10,
   "metadata": {},
   "outputs": [
    {
     "data": {
      "image/png": "[encoded data removed]",
      "text/plain": [
       "<Figure size 552.273x140.467 with 1 Axes>"
      ]
     },
     "execution_count": 10,
     "metadata": {},
     "output_type": "execute_result"
    }
   ],
   "source": [
    "weights = np.random.random(len(ansatz_tl.parameters))\n",
    "ansatz_tl.assign_parameters({k:v for (k,v) in zip(ansatz_tl.parameters, weights)}).decompose().draw('mpl', scale=0.7)"
   ]
  },
  {
   "cell_type": "code",
   "execution_count": 11,
   "metadata": {},
   "outputs": [
    {
     "data": {
      "image/png": "[encoded data removed]",
      "text/plain": [
       "<Figure size 669.328x140.467 with 1 Axes>"
      ]
     },
     "execution_count": 11,
     "metadata": {},
     "output_type": "execute_result"
    }
   ],
   "source": [
    "var_circuit = fmap_zz.compose(ansatz_tl)\n",
    "var_circuit.draw('mpl', scale=0.7)"
   ]
  },
  {
   "cell_type": "markdown",
   "metadata": {},
   "source": [
    "# Primitives\n",
    "\n",
    "For info, see https://docs.quantum.ibm.com/run/primitives"
   ]
  },
  {
   "cell_type": "code",
   "execution_count": 12,
   "metadata": {},
   "outputs": [],
   "source": [
    "# for qiskit_ibm_runtime.Options, see https://docs.quantum.ibm.com/api/qiskit-ibm-runtime/qiskit_ibm_runtime.options.Options\n",
    "options = {}\n",
    "sampler = BackendSampler(backend=qasm_sim, options=options)\n",
    "estimator = BackendEstimator(backend=qasm_sim, options=options)"
   ]
  },
  {
   "cell_type": "markdown",
   "metadata": {},
   "source": [
    "# Quantum Neural Network"
   ]
  },
  {
   "cell_type": "markdown",
   "metadata": {},
   "source": [
    "## SamplerQNN"
   ]
  },
  {
   "cell_type": "code",
   "execution_count": 13,
   "metadata": {},
   "outputs": [],
   "source": [
    "def parity(x, num_classes):\n",
    "    return f\"{x:b}\".count(\"1\") % num_classes\n",
    "\n",
    "def one_qubit_binary(x):\n",
    "    return x % 2"
   ]
  },
  {
   "cell_type": "code",
   "execution_count": 14,
   "metadata": {},
   "outputs": [],
   "source": [
    "var_circuit_with_meas = var_circuit.copy()\n",
    "var_circuit_with_meas.measure_all()"
   ]
  },
  {
   "cell_type": "code",
   "execution_count": 15,
   "metadata": {},
   "outputs": [],
   "source": [
    "paramShiftSampGrad = ParamShiftSamplerGradient(sampler=sampler)\n",
    "\n",
    "sampler_qnn = SamplerQNN(sampler=sampler,\n",
    "                         circuit=var_circuit_with_meas,\n",
    "                         input_params=input_params,     # if your embedding strategy is not a parametrized circuit\n",
    "                                                        # (e.g. amplitude encoding) you will have to do some extra work!\n",
    "                         weight_params=weights_params,  # if you train your embedding as well, the trainable\n",
    "                                                        # parameters of the embedding must be added\n",
    "                         interpret=one_qubit_binary,\n",
    "                         output_shape=2,\n",
    "                         gradient=paramShiftSampGrad)"
   ]
  },
  {
   "cell_type": "markdown",
   "metadata": {},
   "source": [
    "### Forward pass"
   ]
  },
  {
   "cell_type": "code",
   "execution_count": 16,
   "metadata": {},
   "outputs": [
    {
     "name": "stdout",
     "output_type": "stream",
     "text": [
      "Output shape for 100 samples: (100, 2)\n",
      "Output of the forward pass for first sample: [0.43359375 0.56640625]\n"
     ]
    }
   ],
   "source": [
    "# The result of the neural network on a forward pass.\n",
    "output = sampler_qnn.forward(x, weights)\n",
    "print(f\"Output shape for {len(x)} samples: {output.shape}\")\n",
    "print(f\"Output of the forward pass for first sample: {output[0]}\")"
   ]
  },
  {
   "cell_type": "markdown",
   "metadata": {},
   "source": [
    "### Backward pass"
   ]
  },
  {
   "cell_type": "code",
   "execution_count": 17,
   "metadata": {},
   "outputs": [
    {
     "name": "stdout",
     "output_type": "stream",
     "text": [
      "Output shape for 100 samples: (100, 2, 12)\n",
      "Output of the backward pass for first sample: [[ 0.10058594 -0.06933594 -0.0625     -0.0234375   0.20263672  0.11425781\n",
      "  -0.05078125 -0.05859375  0.20458984 -0.00097656  0.01367188  0.00488281]\n",
      " [-0.10058594  0.06933594  0.0625      0.0234375  -0.20263672 -0.11425781\n",
      "   0.05078125  0.05859375 -0.20458984  0.00097656 -0.01367188 -0.00488281]]\n"
     ]
    }
   ],
   "source": [
    "# The result of the neural network on a backward pass\n",
    "_, weights_grad = sampler_qnn.backward(x, weights)\n",
    "print(f\"Output shape for {len(x)} samples: {weights_grad.shape}\")\n",
    "print(f\"Output of the backward pass for first sample: {weights_grad[0]}\")\n"
   ]
  },
  {
   "cell_type": "markdown",
   "metadata": {},
   "source": [
    "## EstimatorQNN"
   ]
  },
  {
   "cell_type": "code",
   "execution_count": 18,
   "metadata": {},
   "outputs": [
    {
     "name": "stdout",
     "output_type": "stream",
     "text": [
      "Parity observable: ZZ\n",
      "First qubit observable: IZ\n"
     ]
    }
   ],
   "source": [
    "obs_parity = Pauli('Z' * num_features)\n",
    "obs_one_qubit = Pauli('I' * (num_features - 1) + 'Z')\n",
    "print(f\"Parity observable: {obs_parity}\")\n",
    "print(f\"First qubit observable: {obs_one_qubit}\")"
   ]
  },
  {
   "cell_type": "code",
   "execution_count": 19,
   "metadata": {},
   "outputs": [],
   "source": [
    "paramShiftEstGrad = ParamShiftEstimatorGradient(estimator=estimator)\n",
    "\n",
    "estimator_qnn = EstimatorQNN(estimator=estimator,\n",
    "                             circuit=var_circuit,\n",
    "                             observables=obs_one_qubit,\n",
    "                             input_params=input_params,     # if your embedding strategy is not a parametrized circuit\n",
    "                                                            # (e.g. amplitude encoding) you will have to do some extra work!\n",
    "                             weight_params=weights_params,  # if you train your embedding as well, the trainable\n",
    "                                                            # parameters of the embedding must be added\n",
    "                             gradient=paramShiftEstGrad)"
   ]
  },
  {
   "cell_type": "markdown",
   "metadata": {},
   "source": [
    "### Forward pass"
   ]
  },
  {
   "cell_type": "code",
   "execution_count": 20,
   "metadata": {},
   "outputs": [
    {
     "name": "stdout",
     "output_type": "stream",
     "text": [
      "Output shape for 100 samples: (100, 1)\n",
      "Output of the forward pass for first sample: [-0.1015625]\n"
     ]
    }
   ],
   "source": [
    "# The result of the neural network on a forward pass.\n",
    "output = estimator_qnn.forward(x, weights)\n",
    "print(f\"Output shape for {len(x)} samples: {output.shape}\")\n",
    "print(f\"Output of the forward pass for first sample: {output[0]}\")"
   ]
  },
  {
   "cell_type": "markdown",
   "metadata": {},
   "source": [
    "### Backward pass"
   ]
  },
  {
   "cell_type": "code",
   "execution_count": 21,
   "metadata": {},
   "outputs": [
    {
     "name": "stdout",
     "output_type": "stream",
     "text": [
      "Output shape for 100 samples: (100, 1, 12)\n",
      "Output of the backward pass for first sample: [[ 0.20507812 -0.15429688 -0.16113281 -0.05957031  0.37695312  0.18164062\n",
      "  -0.11230469 -0.12304688  0.44335938 -0.02636719  0.00390625  0.00585938]]\n"
     ]
    }
   ],
   "source": [
    "# The result of the neural network on a backward pass\n",
    "_, weights_grad = estimator_qnn.backward(x, weights)\n",
    "print(f\"Output shape for {len(x)} samples: {weights_grad.shape}\")\n",
    "print(f\"Output of the backward pass for first sample: {weights_grad[0]}\")"
   ]
  },
  {
   "cell_type": "markdown",
   "metadata": {},
   "source": [
    "# Train a Neural Network Classifier"
   ]
  },
  {
   "cell_type": "code",
   "execution_count": 22,
   "metadata": {},
   "outputs": [
    {
     "name": "stdout",
     "output_type": "stream",
     "text": [
      "Label 0 converted to [1 0]\n",
      "Label 1 converted to [0 1]\n"
     ]
    }
   ],
   "source": [
    "def get_one_hot_encoding(y):\n",
    "    unique_labels = np.unique(y, axis=0)\n",
    "    y_one_hot = [(np.eye(len(unique_labels), dtype=int)[np.where(unique_labels == y_i)]).reshape(len(unique_labels)) for y_i in y]\n",
    "\n",
    "    return np.array(y_one_hot)\n",
    "\n",
    "y_train_1h = get_one_hot_encoding(y_train)\n",
    "y_test_1h = get_one_hot_encoding(y_test)\n",
    "\n",
    "print(f\"Label {y_train[2]} converted to {y_train_1h[2]}\")\n",
    "print(f\"Label {y_train[0]} converted to {y_train_1h[0]}\")"
   ]
  },
  {
   "cell_type": "code",
   "execution_count": 23,
   "metadata": {},
   "outputs": [],
   "source": [
    "def spsa_callback(nfev, params, fval, stepsize, accepted=None):\n",
    "    \"\"\"\n",
    "    Can be used for SPSA and GradientDescent optimizers\n",
    "    nfev: the number of function evals\n",
    "    params: the current parameters\n",
    "    fval: the current function value\n",
    "    stepsize: size of the update step\n",
    "    accepted: whether the step was accepted (not used for )\n",
    "    \"\"\"\n",
    "    global spsa_loss_recorder\n",
    "\n",
    "    if (nfev % 3) == 0:\n",
    "        spsa_loss_recorder.append(fval)\n",
    "        # print(f\"SPSA Epoch {len(spsa_loss_recorder)}: {fval:.5f}\")"
   ]
  },
  {
   "cell_type": "code",
   "execution_count": 24,
   "metadata": {},
   "outputs": [],
   "source": [
    "max_itr = 10\n",
    "spsa_opt = SPSA(maxiter=max_itr, callback=spsa_callback)\n",
    "spsa_loss_recorder = []\n",
    "initial_point = np.random.random((len(ansatz_tl.parameters),))\n",
    "vqc = NeuralNetworkClassifier(neural_network=sampler_qnn,\n",
    "                              loss=CrossEntropyLoss(),\n",
    "                              one_hot=True,\n",
    "                              optimizer=spsa_opt,\n",
    "                              initial_point=initial_point)\n",
    "\n",
    "vqc = vqc.fit(x_train, y_train_1h)"
   ]
  },
  {
   "cell_type": "code",
   "execution_count": 25,
   "metadata": {},
   "outputs": [
    {
     "data": {
      "text/plain": [
       "Text(0.5, 1.0, 'Training loss')"
      ]
     },
     "execution_count": 25,
     "metadata": {},
     "output_type": "execute_result"
    },
    {
     "data": {
      "image/png": "[encoded data removed]",
      "text/plain": [
       "<Figure size 640x480 with 1 Axes>"
      ]
     },
     "metadata": {},
     "output_type": "display_data"
    }
   ],
   "source": [
    "plt.plot(spsa_loss_recorder)\n",
    "plt.xlabel(\"Number of epochs\")\n",
    "plt.title(\"Training loss\")"
   ]
  },
  {
   "cell_type": "code",
   "execution_count": 26,
   "metadata": {},
   "outputs": [
    {
     "name": "stdout",
     "output_type": "stream",
     "text": [
      "Score on the train set 0.75\n",
      "Score on the test set 0.55\n"
     ]
    }
   ],
   "source": [
    "score_train = vqc.score(x_train, y_train_1h)\n",
    "score_test = vqc.score(x_test, y_test_1h)\n",
    "print(f'Score on the train set {score_train}')\n",
    "print(f'Score on the test set {score_test}')"
   ]
  },
  {
   "cell_type": "code",
   "execution_count": 27,
   "metadata": {},
   "outputs": [],
   "source": [
    "y_train_pred = vqc.predict(x_train)\n",
    "y_test_pred = vqc.predict(x_test)"
   ]
  },
  {
   "cell_type": "code",
   "execution_count": 28,
   "metadata": {},
   "outputs": [],
   "source": [
    "train_pred_acc = np.all(y_train_pred == y_train_1h, axis=1)\n",
    "test_pred_acc = np.all(y_test_pred == y_test_1h, axis=1)"
   ]
  },
  {
   "cell_type": "code",
   "execution_count": 29,
   "metadata": {},
   "outputs": [],
   "source": [
    "x_all = np.concatenate((x_train, x_test))\n",
    "y_all= np.concatenate((y_train_1h, y_test_1h))\n",
    "y_pred_acc_all = np.concatenate((train_pred_acc, test_pred_acc))\n",
    "\n",
    "x_b = x_all[np.all(y_all == [1, 0], axis=1)]\n",
    "x_b_good = x_b[(y_pred_acc_all[np.all(y_all == [1, 0], axis=1)])]\n",
    "x_b_bad = x_b[np.logical_not(y_pred_acc_all[np.all(y_all == [1, 0], axis=1)])]\n",
    "\n",
    "x_r = x_all[np.all(y_all == [0, 1], axis=1)]\n",
    "x_r_good = x_r[(y_pred_acc_all[np.all(y_all == [0, 1], axis=1)])]\n",
    "x_r_bad = x_r[np.logical_not(y_pred_acc_all[np.all(y_all == [0, 1], axis=1)])]"
   ]
  },
  {
   "cell_type": "code",
   "execution_count": 30,
   "metadata": {},
   "outputs": [
    {
     "data": {
      "text/plain": [
       "<matplotlib.legend.Legend at 0x1b52fa7cb20>"
      ]
     },
     "execution_count": 30,
     "metadata": {},
     "output_type": "execute_result"
    },
    {
     "data": {
      "image/png": "[encoded data removed]",
      "text/plain": [
       "<Figure size 640x480 with 1 Axes>"
      ]
     },
     "metadata": {},
     "output_type": "display_data"
    }
   ],
   "source": [
    "plt.scatter(x_b_good[:,0], x_b_good[:,1], c='b', marker=\".\", label=\"Good class 0\")\n",
    "plt.scatter(x_b_bad[:,0], x_b_bad[:,1], c='b', marker=\"x\", label=\"Bad class 0\")\n",
    "plt.scatter(x_r_good[:,0], x_r_good[:,1], c='r', marker=\".\", label=\"Good class 1\")\n",
    "plt.scatter(x_r_bad[:,0], x_r_bad[:,1], c='r', marker=\"x\", label=\"Bad class 1\")\n",
    "\n",
    "plt.title(\"Moon dataset classification\")\n",
    "plt.legend()"
   ]
  }
 ],
 "metadata": {
  "interpreter": {
   "hash": "ba0b25e8af5c74af8e2c6ced0e74862d1fdf41eb019455e1e720bbed2b1ca1d9"
  },
  "kernelspec": {
   "display_name": "Python 3 (ipykernel)",
   "language": "python",
   "name": "python3"
  },
  "language_info": {
   "codemirror_mode": {
    "name": "ipython",
    "version": 3
   },
   "file_extension": ".py",
   "mimetype": "text/x-python",
   "name": "python",
   "nbconvert_exporter": "python",
   "pygments_lexer": "ipython3",
   "version": "3.9.13"
  }
 },
 "nbformat": 4,
 "nbformat_minor": 2
}
